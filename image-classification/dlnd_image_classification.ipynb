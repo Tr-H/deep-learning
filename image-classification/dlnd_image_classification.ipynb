{
 "cells": [
  {
   "cell_type": "markdown",
   "metadata": {
    "collapsed": true
   },
   "source": [
    "# Image Classification\n",
    "In this project, you'll classify images from the [CIFAR-10 dataset](https://www.cs.toronto.edu/~kriz/cifar.html).  The dataset consists of airplanes, dogs, cats, and other objects. You'll preprocess the images, then train a convolutional neural network on all the samples. The images need to be normalized and the labels need to be one-hot encoded.  You'll get to apply what you learned and build a convolutional, max pooling, dropout, and fully connected layers.  At the end, you'll get to see your neural network's predictions on the sample images.\n",
    "## Get the Data\n",
    "Run the following cell to download the [CIFAR-10 dataset for python](https://www.cs.toronto.edu/~kriz/cifar-10-python.tar.gz)."
   ]
  },
  {
   "cell_type": "code",
   "execution_count": 2,
   "metadata": {
    "collapsed": false
   },
   "outputs": [
    {
     "name": "stderr",
     "output_type": "stream",
     "text": [
      "CIFAR-10 Dataset: 171MB [00:22, 7.42MB/s]                              \n"
     ]
    },
    {
     "name": "stdout",
     "output_type": "stream",
     "text": [
      "All files found!\n"
     ]
    }
   ],
   "source": [
    "\"\"\"\n",
    "DON'T MODIFY ANYTHING IN THIS CELL THAT IS BELOW THIS LINE\n",
    "\"\"\"\n",
    "from urllib.request import urlretrieve\n",
    "from os.path import isfile, isdir\n",
    "from tqdm import tqdm\n",
    "import problem_unittests as tests\n",
    "import tarfile\n",
    "\n",
    "cifar10_dataset_folder_path = 'cifar-10-batches-py'\n",
    "\n",
    "# Use Floyd's cifar-10 dataset if present\n",
    "floyd_cifar10_location = '/input/cifar-10/python.tar.gz'\n",
    "if isfile(floyd_cifar10_location):\n",
    "    tar_gz_path = floyd_cifar10_location\n",
    "else:\n",
    "    tar_gz_path = 'cifar-10-python.tar.gz'\n",
    "\n",
    "class DLProgress(tqdm):\n",
    "    last_block = 0\n",
    "\n",
    "    def hook(self, block_num=1, block_size=1, total_size=None):\n",
    "        self.total = total_size\n",
    "        self.update((block_num - self.last_block) * block_size)\n",
    "        self.last_block = block_num\n",
    "\n",
    "if not isfile(tar_gz_path):\n",
    "    with DLProgress(unit='B', unit_scale=True, miniters=1, desc='CIFAR-10 Dataset') as pbar:\n",
    "        urlretrieve(\n",
    "            'https://www.cs.toronto.edu/~kriz/cifar-10-python.tar.gz',\n",
    "            tar_gz_path,\n",
    "            pbar.hook)\n",
    "\n",
    "if not isdir(cifar10_dataset_folder_path):\n",
    "    with tarfile.open(tar_gz_path) as tar:\n",
    "        tar.extractall()\n",
    "        tar.close()\n",
    "\n",
    "\n",
    "tests.test_folder_path(cifar10_dataset_folder_path)"
   ]
  },
  {
   "cell_type": "markdown",
   "metadata": {},
   "source": [
    "## Explore the Data\n",
    "The dataset is broken into batches to prevent your machine from running out of memory.  The CIFAR-10 dataset consists of 5 batches, named `data_batch_1`, `data_batch_2`, etc.. Each batch contains the labels and images that are one of the following:\n",
    "* airplane\n",
    "* automobile\n",
    "* bird\n",
    "* cat\n",
    "* deer\n",
    "* dog\n",
    "* frog\n",
    "* horse\n",
    "* ship\n",
    "* truck\n",
    "\n",
    "Understanding a dataset is part of making predictions on the data.  Play around with the code cell below by changing the `batch_id` and `sample_id`. The `batch_id` is the id for a batch (1-5). The `sample_id` is the id for a image and label pair in the batch.\n",
    "\n",
    "Ask yourself \"What are all possible labels?\", \"What is the range of values for the image data?\", \"Are the labels in order or random?\".  Answers to questions like these will help you preprocess the data and end up with better predictions."
   ]
  },
  {
   "cell_type": "code",
   "execution_count": 3,
   "metadata": {
    "collapsed": false
   },
   "outputs": [
    {
     "name": "stdout",
     "output_type": "stream",
     "text": [
      "\n",
      "Stats of batch 1:\n",
      "Samples: 10000\n",
      "Label Counts: {0: 1005, 1: 974, 2: 1032, 3: 1016, 4: 999, 5: 937, 6: 1030, 7: 1001, 8: 1025, 9: 981}\n",
      "First 20 Labels: [6, 9, 9, 4, 1, 1, 2, 7, 8, 3, 4, 7, 7, 2, 9, 9, 9, 3, 2, 6]\n",
      "\n",
      "Example of Image 5:\n",
      "Image - Min Value: 0 Max Value: 252\n",
      "Image - Shape: (32, 32, 3)\n",
      "Label - Label Id: 1 Name: automobile\n"
     ]
    },
    {
     "data": {
      "image/png": "[encoded data removed]",
      "text/plain": [
       "<matplotlib.figure.Figure at 0x7f39d47d5518>"
      ]
     },
     "metadata": {
      "image/png": {
       "height": 250,
       "width": 253
      }
     },
     "output_type": "display_data"
    }
   ],
   "source": [
    "%matplotlib inline\n",
    "%config InlineBackend.figure_format = 'retina'\n",
    "\n",
    "import helper\n",
    "import numpy as np\n",
    "\n",
    "# Explore the dataset\n",
    "batch_id = 1\n",
    "sample_id = 5\n",
    "helper.display_stats(cifar10_dataset_folder_path, batch_id, sample_id)"
   ]
  },
  {
   "cell_type": "markdown",
   "metadata": {},
   "source": [
    "## Implement Preprocess Functions\n",
    "### Normalize\n",
    "In the cell below, implement the `normalize` function to take in image data, `x`, and return it as a normalized Numpy array. The values should be in the range of 0 to 1, inclusive.  The return object should be the same shape as `x`."
   ]
  },
  {
   "cell_type": "code",
   "execution_count": 4,
   "metadata": {
    "collapsed": false
   },
   "outputs": [
    {
     "name": "stdout",
     "output_type": "stream",
     "text": [
      "Tests Passed\n"
     ]
    }
   ],
   "source": [
    "def normalize(x):\n",
    "    \"\"\"\n",
    "    Normalize a list of sample image data in the range of 0 to 1\n",
    "    : x: List of image data.  The image shape is (32, 32, 3)\n",
    "    : return: Numpy array of normalize data\n",
    "    \"\"\"\n",
    "    # TODO: Implement Function\n",
    "    return np.array(np.divide(x, 255))\n",
    "\n",
    "\n",
    "\"\"\"\n",
    "DON'T MODIFY ANYTHING IN THIS CELL THAT IS BELOW THIS LINE\n",
    "\"\"\"\n",
    "tests.test_normalize(normalize)"
   ]
  },
  {
   "cell_type": "markdown",
   "metadata": {},
   "source": [
    "### One-hot encode\n",
    "Just like the previous code cell, you'll be implementing a function for preprocessing.  This time, you'll implement the `one_hot_encode` function. The input, `x`, are a list of labels.  Implement the function to return the list of labels as One-Hot encoded Numpy array.  The possible values for labels are 0 to 9. The one-hot encoding function should return the same encoding for each value between each call to `one_hot_encode`.  Make sure to save the map of encodings outside the function.\n",
    "\n",
    "Hint: Don't reinvent the wheel."
   ]
  },
  {
   "cell_type": "code",
   "execution_count": 5,
   "metadata": {
    "collapsed": false
   },
   "outputs": [
    {
     "name": "stdout",
     "output_type": "stream",
     "text": [
      "[[1]\n",
      " [2]]\n",
      "[[ 0.  1.  0.  0.  0.  0.  0.  0.  0.  0.]\n",
      " [ 0.  0.  1.  0.  0.  0.  0.  0.  0.  0.]]\n",
      "Tests Passed\n"
     ]
    }
   ],
   "source": [
    "\n",
    "def one_hot_encode(x):\n",
    "    \"\"\"\n",
    "    One hot encode a list of sample labels. Return a one-hot encoded vector for each label.\n",
    "    : x: List of sample Labels\n",
    "    : return: Numpy array of one-hot encoded labels\n",
    "    \"\"\"\n",
    "    # TODO: Implement Function\n",
    "    from sklearn.preprocessing import OneHotEncoder\n",
    "    encoder = OneHotEncoder(n_values=10)    \n",
    "    labels = encoder.fit_transform(np.array(x).reshape(-1, 1)).toarray()\n",
    "    return labels\n",
    "\n",
    "if True:\n",
    "    from sklearn.preprocessing import OneHotEncoder\n",
    "    x = [1, 2]\n",
    "    encoder = OneHotEncoder(n_values=10)\n",
    "    x = np.array(x).reshape(-1, 1)\n",
    "    print(x)\n",
    "    labels = encoder.fit_transform(x).toarray()\n",
    "    print(labels)\n",
    "\n",
    "\"\"\"\n",
    "DON'T MODIFY ANYTHING IN THIS CELL THAT IS BELOW THIS LINE\n",
    "\"\"\"\n",
    "tests.test_one_hot_encode(one_hot_encode)"
   ]
  },
  {
   "cell_type": "markdown",
   "metadata": {},
   "source": [
    "### Randomize Data\n",
    "As you saw from exploring the data above, the order of the samples are randomized.  It doesn't hurt to randomize it again, but you don't need to for this dataset."
   ]
  },
  {
   "cell_type": "markdown",
   "metadata": {},
   "source": [
    "## Preprocess all the data and save it\n",
    "Running the code cell below will preprocess all the CIFAR-10 data and save it to file. The code below also uses 10% of the training data for validation."
   ]
  },
  {
   "cell_type": "code",
   "execution_count": 6,
   "metadata": {
    "collapsed": true
   },
   "outputs": [],
   "source": [
    "\"\"\"\n",
    "DON'T MODIFY ANYTHING IN THIS CELL\n",
    "\"\"\"\n",
    "# Preprocess Training, Validation, and Testing Data\n",
    "helper.preprocess_and_save_data(cifar10_dataset_folder_path, normalize, one_hot_encode)"
   ]
  },
  {
   "cell_type": "markdown",
   "metadata": {},
   "source": [
    "# Check Point\n",
    "This is your first checkpoint.  If you ever decide to come back to this notebook or have to restart the notebook, you can start from here.  The preprocessed data has been saved to disk."
   ]
  },
  {
   "cell_type": "code",
   "execution_count": 1,
   "metadata": {
    "collapsed": true
   },
   "outputs": [],
   "source": [
    "\"\"\"\n",
    "DON'T MODIFY ANYTHING IN THIS CELL\n",
    "\"\"\"\n",
    "import pickle\n",
    "import problem_unittests as tests\n",
    "import helper\n",
    "import numpy as np\n",
    "\n",
    "# Load the Preprocessed Validation data\n",
    "valid_features, valid_labels = pickle.load(open('preprocess_validation.p', mode='rb'))"
   ]
  },
  {
   "cell_type": "markdown",
   "metadata": {},
   "source": [
    "## Build the network\n",
    "For the neural network, you'll build each layer into a function.  Most of the code you've seen has been outside of functions. To test your code more thoroughly, we require that you put each layer in a function.  This allows us to give you better feedback and test for simple mistakes using our unittests before you submit your project.\n",
    "\n",
    ">**Note:** If you're finding it hard to dedicate enough time for this course each week, we've provided a small shortcut to this part of the project. In the next couple of problems, you'll have the option to use classes from the [TensorFlow Layers](https://www.tensorflow.org/api_docs/python/tf/layers) or [TensorFlow Layers (contrib)](https://www.tensorflow.org/api_guides/python/contrib.layers) packages to build each layer, except the layers you build in the \"Convolutional and Max Pooling Layer\" section.  TF Layers is similar to Keras's and TFLearn's abstraction to layers, so it's easy to pickup.\n",
    "\n",
    ">However, if you would like to get the most out of this course, try to solve all the problems _without_ using anything from the TF Layers packages. You **can** still use classes from other packages that happen to have the same name as ones you find in TF Layers! For example, instead of using the TF Layers version of the `conv2d` class, [tf.layers.conv2d](https://www.tensorflow.org/api_docs/python/tf/layers/conv2d), you would want to use the TF Neural Network version of `conv2d`, [tf.nn.conv2d](https://www.tensorflow.org/api_docs/python/tf/nn/conv2d). \n",
    "\n",
    "Let's begin!\n",
    "\n",
    "### Input\n",
    "The neural network needs to read the image data, one-hot encoded labels, and dropout keep probability. Implement the following functions\n",
    "* Implement `neural_net_image_input`\n",
    " * Return a [TF Placeholder](https://www.tensorflow.org/api_docs/python/tf/placeholder)\n",
    " * Set the shape using `image_shape` with batch size set to `None`.\n",
    " * Name the TensorFlow placeholder \"x\" using the TensorFlow `name` parameter in the [TF Placeholder](https://www.tensorflow.org/api_docs/python/tf/placeholder).\n",
    "* Implement `neural_net_label_input`\n",
    " * Return a [TF Placeholder](https://www.tensorflow.org/api_docs/python/tf/placeholder)\n",
    " * Set the shape using `n_classes` with batch size set to `None`.\n",
    " * Name the TensorFlow placeholder \"y\" using the TensorFlow `name` parameter in the [TF Placeholder](https://www.tensorflow.org/api_docs/python/tf/placeholder).\n",
    "* Implement `neural_net_keep_prob_input`\n",
    " * Return a [TF Placeholder](https://www.tensorflow.org/api_docs/python/tf/placeholder) for dropout keep probability.\n",
    " * Name the TensorFlow placeholder \"keep_prob\" using the TensorFlow `name` parameter in the [TF Placeholder](https://www.tensorflow.org/api_docs/python/tf/placeholder).\n",
    "\n",
    "These names will be used at the end of the project to load your saved model.\n",
    "\n",
    "Note: `None` for shapes in TensorFlow allow for a dynamic size."
   ]
  },
  {
   "cell_type": "code",
   "execution_count": 2,
   "metadata": {
    "collapsed": false
   },
   "outputs": [
    {
     "name": "stdout",
     "output_type": "stream",
     "text": [
      "Image Input Tests Passed.\n",
      "Label Input Tests Passed.\n",
      "Keep Prob Tests Passed.\n"
     ]
    }
   ],
   "source": [
    "import tensorflow as tf\n",
    "\n",
    "def neural_net_image_input(image_shape):\n",
    "    \"\"\"\n",
    "    Return a Tensor for a batch of image input\n",
    "    : image_shape: Shape of the images\n",
    "    : return: Tensor for image input.\n",
    "    \"\"\"\n",
    "    return tf.placeholder(tf.float32, shape=[None, *image_shape], name='x')\n",
    "\n",
    "\n",
    "def neural_net_label_input(n_classes):\n",
    "    \"\"\"\n",
    "    Return a Tensor for a batch of label input\n",
    "    : n_classes: Number of classes\n",
    "    : return: Tensor for label input.\n",
    "    \"\"\"\n",
    "    return tf.placeholder(tf.float32, shape=[None, n_classes], name='y')\n",
    "\n",
    "\n",
    "def neural_net_keep_prob_input():\n",
    "    \"\"\"\n",
    "    Return a Tensor for keep probability\n",
    "    : return: Tensor for keep probability.\n",
    "    \"\"\"\n",
    "    return tf.placeholder(tf.float32, name='keep_prob')\n",
    "\n",
    "\n",
    "\"\"\"\n",
    "DON'T MODIFY ANYTHING IN THIS CELL THAT IS BELOW THIS LINE\n",
    "\"\"\"\n",
    "tf.reset_default_graph()\n",
    "tests.test_nn_image_inputs(neural_net_image_input)\n",
    "tests.test_nn_label_inputs(neural_net_label_input)\n",
    "tests.test_nn_keep_prob_inputs(neural_net_keep_prob_input)"
   ]
  },
  {
   "cell_type": "markdown",
   "metadata": {},
   "source": [
    "### Convolution and Max Pooling Layer\n",
    "Convolution layers have a lot of success with images. For this code cell, you should implement the function `conv2d_maxpool` to apply convolution then max pooling:\n",
    "* Create the weight and bias using `conv_ksize`, `conv_num_outputs` and the shape of `x_tensor`.\n",
    "* Apply a convolution to `x_tensor` using weight and `conv_strides`.\n",
    " * We recommend you use same padding, but you're welcome to use any padding.\n",
    "* Add bias\n",
    "* Add a nonlinear activation to the convolution.\n",
    "* Apply Max Pooling using `pool_ksize` and `pool_strides`.\n",
    " * We recommend you use same padding, but you're welcome to use any padding.\n",
    "\n",
    "**Note:** You **can't** use [TensorFlow Layers](https://www.tensorflow.org/api_docs/python/tf/layers) or [TensorFlow Layers (contrib)](https://www.tensorflow.org/api_guides/python/contrib.layers) for **this** layer, but you can still use TensorFlow's [Neural Network](https://www.tensorflow.org/api_docs/python/tf/nn) package. You may still use the shortcut option for all the **other** layers."
   ]
  },
  {
   "cell_type": "code",
   "execution_count": 3,
   "metadata": {
    "collapsed": false
   },
   "outputs": [
    {
     "name": "stdout",
     "output_type": "stream",
     "text": [
      "Tests Passed\n"
     ]
    }
   ],
   "source": [
    "def conv2d_maxpool(x_tensor, conv_num_outputs, conv_ksize, conv_strides, pool_ksize, pool_strides):\n",
    "    \"\"\"\n",
    "    Apply convolution then max pooling to x_tensor\n",
    "    :param x_tensor: TensorFlow Tensor\n",
    "    :param conv_num_outputs: Number of outputs for the convolutional layer\n",
    "    :param conv_ksize: kernal size 2-D Tuple for the convolutional layer\n",
    "    :param conv_strides: Stride 2-D Tuple for convolution\n",
    "    :param pool_ksize: kernal size 2-D Tuple for pool\n",
    "    :param pool_strides: Stride 2-D Tuple for pool\n",
    "    : return: A tensor that represents convolution and max pooling of x_tensor\n",
    "    \"\"\"\n",
    "    # get stddev using 1/sqrt(n)\n",
    "    stddev = np.sqrt(float(1.0 / np.prod(x_tensor.get_shape().as_list()[1:])))\n",
    "    conv_num_inputs = int(x_tensor.shape[-1])\n",
    "    w_shape = [*conv_ksize, conv_num_inputs, conv_num_outputs]\n",
    "    w = tf.Variable(tf.truncated_normal(w_shape, stddev=stddev))\n",
    "    b = tf.Variable(tf.truncated_normal([conv_num_outputs], stddev=stddev))\n",
    "    \n",
    "    # fix input\n",
    "    conv_strides = [1, *conv_strides, 1]\n",
    "    pool_ksize = [1, *pool_ksize, 1]\n",
    "    pool_strides = [1, *pool_strides, 1]\n",
    "    \n",
    "    # ops\n",
    "    x = tf.nn.conv2d(x_tensor, w, strides=conv_strides, padding='SAME')\n",
    "    x = tf.nn.bias_add(x, b)\n",
    "    x = tf.nn.relu(x)\n",
    "    x = tf.nn.max_pool(x, ksize=pool_ksize, strides=pool_strides, padding='SAME')\n",
    "    \n",
    "    return x\n",
    "\n",
    "\n",
    "\"\"\"\n",
    "DON'T MODIFY ANYTHING IN THIS CELL THAT IS BELOW THIS LINE\n",
    "\"\"\"\n",
    "tests.test_con_pool(conv2d_maxpool)"
   ]
  },
  {
   "cell_type": "markdown",
   "metadata": {},
   "source": [
    "### Flatten Layer\n",
    "Implement the `flatten` function to change the dimension of `x_tensor` from a 4-D tensor to a 2-D tensor.  The output should be the shape (*Batch Size*, *Flattened Image Size*). Shortcut option: you can use classes from the [TensorFlow Layers](https://www.tensorflow.org/api_docs/python/tf/layers) or [TensorFlow Layers (contrib)](https://www.tensorflow.org/api_guides/python/contrib.layers) packages for this layer. For more of a challenge, only use other TensorFlow packages."
   ]
  },
  {
   "cell_type": "code",
   "execution_count": 4,
   "metadata": {
    "collapsed": false
   },
   "outputs": [
    {
     "name": "stdout",
     "output_type": "stream",
     "text": [
      "Tests Passed\n"
     ]
    }
   ],
   "source": [
    "def flatten(x_tensor):\n",
    "    \"\"\"\n",
    "    Flatten x_tensor to (Batch Size, Flattened Image Size)\n",
    "    : x_tensor: A tensor of size (Batch Size, ...), where ... are the image dimensions.\n",
    "    : return: A tensor of size (Batch Size, Flattened Image Size).\n",
    "    \"\"\"\n",
    "    # TODO: Implement Function\n",
    "    batch_size, *image_shape = x_tensor.get_shape().as_list()\n",
    "    image_size = np.prod(image_shape)\n",
    "    return tf.reshape(x_tensor, [-1, image_size])\n",
    "\n",
    "\n",
    "\"\"\"\n",
    "DON'T MODIFY ANYTHING IN THIS CELL THAT IS BELOW THIS LINE\n",
    "\"\"\"\n",
    "tests.test_flatten(flatten)"
   ]
  },
  {
   "cell_type": "markdown",
   "metadata": {},
   "source": [
    "### Fully-Connected Layer\n",
    "Implement the `fully_conn` function to apply a fully connected layer to `x_tensor` with the shape (*Batch Size*, *num_outputs*). Shortcut option: you can use classes from the [TensorFlow Layers](https://www.tensorflow.org/api_docs/python/tf/layers) or [TensorFlow Layers (contrib)](https://www.tensorflow.org/api_guides/python/contrib.layers) packages for this layer. For more of a challenge, only use other TensorFlow packages."
   ]
  },
  {
   "cell_type": "code",
   "execution_count": 5,
   "metadata": {
    "collapsed": false
   },
   "outputs": [
    {
     "name": "stdout",
     "output_type": "stream",
     "text": [
      "Tests Passed\n"
     ]
    }
   ],
   "source": [
    "def fully_conn(x_tensor, num_outputs):\n",
    "    \"\"\"\n",
    "    Apply a fully connected layer to x_tensor using weight and bias\n",
    "    : x_tensor: A 2-D tensor where the first dimension is batch size.\n",
    "    : num_outputs: The number of output that the new tensor should be.\n",
    "    : return: A 2-D tensor where the second dimension is num_outputs.\n",
    "    \"\"\"\n",
    "    w_shape = [int(x_tensor.get_shape().as_list()[-1]), num_outputs]\n",
    "    stddev = np.sqrt(1.0 / int(x_tensor.shape[-1]))\n",
    "    w = tf.Variable(tf.truncated_normal(w_shape, stddev=stddev))\n",
    "    b = tf.Variable(tf.truncated_normal([num_outputs], stddev=stddev))\n",
    "    \n",
    "    x = tf.add(tf.matmul(x_tensor, w), b)\n",
    "    x = tf.nn.relu(x)\n",
    "    return x\n",
    "\n",
    "\"\"\"\n",
    "DON'T MODIFY ANYTHING IN THIS CELL THAT IS BELOW THIS LINE\n",
    "\"\"\"\n",
    "tests.test_fully_conn(fully_conn)"
   ]
  },
  {
   "cell_type": "markdown",
   "metadata": {},
   "source": [
    "### Output Layer\n",
    "Implement the `output` function to apply a fully connected layer to `x_tensor` with the shape (*Batch Size*, *num_outputs*). Shortcut option: you can use classes from the [TensorFlow Layers](https://www.tensorflow.org/api_docs/python/tf/layers) or [TensorFlow Layers (contrib)](https://www.tensorflow.org/api_guides/python/contrib.layers) packages for this layer. For more of a challenge, only use other TensorFlow packages.\n",
    "\n",
    "**Note:** Activation, softmax, or cross entropy should **not** be applied to this."
   ]
  },
  {
   "cell_type": "code",
   "execution_count": 6,
   "metadata": {
    "collapsed": false
   },
   "outputs": [
    {
     "name": "stdout",
     "output_type": "stream",
     "text": [
      "Tests Passed\n"
     ]
    }
   ],
   "source": [
    "def output(x_tensor, num_outputs):\n",
    "    \"\"\"\n",
    "    Apply a output layer to x_tensor using weight and bias\n",
    "    : x_tensor: A 2-D tensor where the first dimension is batch size.\n",
    "    : num_outputs: The number of output that the new tensor should be.\n",
    "    : return: A 2-D tensor where the second dimension is num_outputs.\n",
    "    \"\"\"\n",
    "    w_shape = [int(x_tensor.get_shape().as_list()[-1]), num_outputs]\n",
    "    stddev = np.sqrt(1.0 / int(x_tensor.shape[-1]))\n",
    "    w = tf.Variable(tf.truncated_normal(w_shape, stddev=stddev))\n",
    "    b = tf.Variable(tf.truncated_normal([num_outputs], stddev=stddev))\n",
    "    \n",
    "    x = tf.add(tf.matmul(x_tensor, w), b)\n",
    "    return x\n",
    "\n",
    "\n",
    "\"\"\"\n",
    "DON'T MODIFY ANYTHING IN THIS CELL THAT IS BELOW THIS LINE\n",
    "\"\"\"\n",
    "tests.test_output(output)"
   ]
  },
  {
   "cell_type": "markdown",
   "metadata": {},
   "source": [
    "### Create Convolutional Model\n",
    "Implement the function `conv_net` to create a convolutional neural network model. The function takes in a batch of images, `x`, and outputs logits.  Use the layers you created above to create this model:\n",
    "\n",
    "* Apply 1, 2, or 3 Convolution and Max Pool layers\n",
    "* Apply a Flatten Layer\n",
    "* Apply 1, 2, or 3 Fully Connected Layers\n",
    "* Apply an Output Layer\n",
    "* Return the output\n",
    "* Apply [TensorFlow's Dropout](https://www.tensorflow.org/api_docs/python/tf/nn/dropout) to one or more layers in the model using `keep_prob`. "
   ]
  },
  {
   "cell_type": "code",
   "execution_count": 17,
   "metadata": {
    "collapsed": false
   },
   "outputs": [
    {
     "name": "stdout",
     "output_type": "stream",
     "text": [
      "Neural Network Built!\n"
     ]
    }
   ],
   "source": [
    "def conv_net(x, keep_prob):\n",
    "    \"\"\"\n",
    "    Create a convolutional neural network model\n",
    "    : x: Placeholder tensor that holds image data.\n",
    "    : keep_prob: Placeholder tensor that hold dropout keep probability.\n",
    "    : return: Tensor that represents logits\n",
    "    \"\"\"\n",
    "    # TODO: Apply 1, 2, or 3 Convolution and Max Pool layers\n",
    "    #    Play around with different number of outputs, kernel size and stride\n",
    "    # Function Definition from Above:\n",
    "    x = conv2d_maxpool(x, 64, (3, 3), (1, 1), (2, 2), (2, 2))\n",
    "    x = conv2d_maxpool(x, 48, (3, 3), (1, 1), (2, 2), (2, 2))\n",
    "    x = conv2d_maxpool(x, 32, (3, 3), (1, 1), (2, 2), (2, 2))\n",
    "    \n",
    "    \n",
    "    # TODO: Apply a Flatten Layer\n",
    "    # Function Definition from Above:\n",
    "    x = flatten(x)\n",
    "    \n",
    "\n",
    "    # TODO: Apply 1, 2, or 3 Fully Connected Layers\n",
    "    #    Play around with different number of outputs\n",
    "    # Function Definition from Above:\n",
    "    x = fully_conn(x, 512)\n",
    "    x = tf.nn.dropout(x, keep_prob)\n",
    "    x = fully_conn(x, 128)\n",
    "    x = tf.nn.dropout(x, keep_prob)\n",
    "    \n",
    "    \n",
    "    # TODO: Apply an Output Layer\n",
    "    #    Set this to the number of classes\n",
    "    # Function Definition from Above:\n",
    "    x = output(x, 10)\n",
    "    \n",
    "    \n",
    "    # TODO: return output\n",
    "    return x\n",
    "\n",
    "\n",
    "\"\"\"\n",
    "DON'T MODIFY ANYTHING IN THIS CELL THAT IS BELOW THIS LINE\n",
    "\"\"\"\n",
    "\n",
    "##############################\n",
    "## Build the Neural Network ##\n",
    "##############################\n",
    "\n",
    "# Remove previous weights, bias, inputs, etc..\n",
    "tf.reset_default_graph()\n",
    "\n",
    "# Inputs\n",
    "x = neural_net_image_input((32, 32, 3))\n",
    "y = neural_net_label_input(10)\n",
    "keep_prob = neural_net_keep_prob_input()\n",
    "\n",
    "# Model\n",
    "logits = conv_net(x, keep_prob)\n",
    "\n",
    "# Name logits Tensor, so that is can be loaded from disk after training\n",
    "logits = tf.identity(logits, name='logits')\n",
    "\n",
    "# Loss and Optimizer\n",
    "cost = tf.reduce_mean(tf.nn.softmax_cross_entropy_with_logits(logits=logits, labels=y))\n",
    "optimizer = tf.train.AdamOptimizer().minimize(cost)\n",
    "\n",
    "# Accuracy\n",
    "correct_pred = tf.equal(tf.argmax(logits, 1), tf.argmax(y, 1))\n",
    "accuracy = tf.reduce_mean(tf.cast(correct_pred, tf.float32), name='accuracy')\n",
    "\n",
    "tests.test_conv_net(conv_net)"
   ]
  },
  {
   "cell_type": "markdown",
   "metadata": {},
   "source": [
    "## Train the Neural Network\n",
    "### Single Optimization\n",
    "Implement the function `train_neural_network` to do a single optimization.  The optimization should use `optimizer` to optimize in `session` with a `feed_dict` of the following:\n",
    "* `x` for image input\n",
    "* `y` for labels\n",
    "* `keep_prob` for keep probability for dropout\n",
    "\n",
    "This function will be called for each batch, so `tf.global_variables_initializer()` has already been called.\n",
    "\n",
    "Note: Nothing needs to be returned. This function is only optimizing the neural network."
   ]
  },
  {
   "cell_type": "code",
   "execution_count": 8,
   "metadata": {
    "collapsed": false
   },
   "outputs": [
    {
     "name": "stdout",
     "output_type": "stream",
     "text": [
      "Tests Passed\n"
     ]
    }
   ],
   "source": [
    "def train_neural_network(session, optimizer, keep_probability, feature_batch, label_batch):\n",
    "    \"\"\"\n",
    "    Optimize the session on a batch of images and labels\n",
    "    : session: Current TensorFlow session\n",
    "    : optimizer: TensorFlow optimizer function\n",
    "    : keep_probability: keep probability\n",
    "    : feature_batch: Batch of Numpy image data\n",
    "    : label_batch: Batch of Numpy label data\n",
    "    \"\"\"\n",
    "    # TODO: Implement Function\n",
    "    session.run(optimizer, feed_dict={x: feature_batch, y: label_batch, keep_prob: keep_probability})\n",
    "\n",
    "\n",
    "\"\"\"\n",
    "DON'T MODIFY ANYTHING IN THIS CELL THAT IS BELOW THIS LINE\n",
    "\"\"\"\n",
    "tests.test_train_nn(train_neural_network)"
   ]
  },
  {
   "cell_type": "markdown",
   "metadata": {},
   "source": [
    "### Show Stats\n",
    "Implement the function `print_stats` to print loss and validation accuracy.  Use the global variables `valid_features` and `valid_labels` to calculate validation accuracy.  Use a keep probability of `1.0` to calculate the loss and validation accuracy."
   ]
  },
  {
   "cell_type": "code",
   "execution_count": 12,
   "metadata": {
    "collapsed": true
   },
   "outputs": [],
   "source": [
    "def print_stats(session, feature_batch, label_batch, cost, accuracy):\n",
    "    \"\"\"\n",
    "    Print information about loss and validation accuracy\n",
    "    : session: Current TensorFlow session\n",
    "    : feature_batch: Batch of Numpy image data\n",
    "    : label_batch: Batch of Numpy label data\n",
    "    : cost: TensorFlow cost function\n",
    "    : accuracy: TensorFlow accuracy function\n",
    "    \"\"\"\n",
    "    # TODO: Implement Function\n",
    "    loss = session.run(cost, feed_dict={x: feature_batch, y: label_batch, keep_prob: 1})\n",
    "    valid_accuracy = session.run(accuracy, feed_dict={x: valid_features, y: valid_labels, keep_prob: 1})\n",
    "    print('Loss: {:>10.4f} Validation Accuracy: {:.6f}'.format(loss, valid_accuracy))"
   ]
  },
  {
   "cell_type": "markdown",
   "metadata": {},
   "source": [
    "### Hyperparameters\n",
    "Tune the following parameters:\n",
    "* Set `epochs` to the number of iterations until the network stops learning or start overfitting\n",
    "* Set `batch_size` to the highest number that your machine has memory for.  Most people set them to common sizes of memory:\n",
    " * 64\n",
    " * 128\n",
    " * 256\n",
    " * ...\n",
    "* Set `keep_probability` to the probability of keeping a node using dropout"
   ]
  },
  {
   "cell_type": "code",
   "execution_count": 21,
   "metadata": {
    "collapsed": true
   },
   "outputs": [],
   "source": [
    "# TODO: Tune Parameters\n",
    "epochs = 25\n",
    "batch_size = 128\n",
    "keep_probability = 0.5"
   ]
  },
  {
   "cell_type": "markdown",
   "metadata": {},
   "source": [
    "### Train on a Single CIFAR-10 Batch\n",
    "Instead of training the neural network on all the CIFAR-10 batches of data, let's use a single batch. This should save time while you iterate on the model to get a better accuracy.  Once the final validation accuracy is 50% or greater, run the model on all the data in the next section."
   ]
  },
  {
   "cell_type": "code",
   "execution_count": 19,
   "metadata": {
    "collapsed": false
   },
   "outputs": [
    {
     "name": "stdout",
     "output_type": "stream",
     "text": [
      "Checking the Training on a Single Batch...\n",
      "Epoch  1, CIFAR-10 Batch 1:  Loss:     2.2072 Validation Accuracy: 0.231800\n",
      "Epoch  2, CIFAR-10 Batch 1:  Loss:     2.1661 Validation Accuracy: 0.275000\n",
      "Epoch  3, CIFAR-10 Batch 1:  Loss:     2.1138 Validation Accuracy: 0.338000\n",
      "Epoch  4, CIFAR-10 Batch 1:  Loss:     1.9276 Validation Accuracy: 0.353000\n",
      "Epoch  5, CIFAR-10 Batch 1:  Loss:     1.7676 Validation Accuracy: 0.390600\n",
      "Epoch  6, CIFAR-10 Batch 1:  Loss:     1.6612 Validation Accuracy: 0.404600\n",
      "Epoch  7, CIFAR-10 Batch 1:  Loss:     1.5660 Validation Accuracy: 0.442400\n",
      "Epoch  8, CIFAR-10 Batch 1:  Loss:     1.5223 Validation Accuracy: 0.449200\n",
      "Epoch  9, CIFAR-10 Batch 1:  Loss:     1.4951 Validation Accuracy: 0.458800\n",
      "Epoch 10, CIFAR-10 Batch 1:  Loss:     1.3783 Validation Accuracy: 0.465000\n",
      "Epoch 11, CIFAR-10 Batch 1:  Loss:     1.3464 Validation Accuracy: 0.472400\n",
      "Epoch 12, CIFAR-10 Batch 1:  Loss:     1.2355 Validation Accuracy: 0.502200\n",
      "Epoch 13, CIFAR-10 Batch 1:  Loss:     1.2004 Validation Accuracy: 0.513400\n",
      "Epoch 14, CIFAR-10 Batch 1:  Loss:     1.1885 Validation Accuracy: 0.512400\n",
      "Epoch 15, CIFAR-10 Batch 1:  Loss:     1.1038 Validation Accuracy: 0.517400\n",
      "Epoch 16, CIFAR-10 Batch 1:  Loss:     1.0488 Validation Accuracy: 0.523200\n",
      "Epoch 17, CIFAR-10 Batch 1:  Loss:     1.0112 Validation Accuracy: 0.524200\n",
      "Epoch 18, CIFAR-10 Batch 1:  Loss:     0.9147 Validation Accuracy: 0.537400\n",
      "Epoch 19, CIFAR-10 Batch 1:  Loss:     0.9110 Validation Accuracy: 0.542600\n",
      "Epoch 20, CIFAR-10 Batch 1:  Loss:     0.8908 Validation Accuracy: 0.557000\n",
      "Epoch 21, CIFAR-10 Batch 1:  Loss:     0.8673 Validation Accuracy: 0.531000\n",
      "Epoch 22, CIFAR-10 Batch 1:  Loss:     0.8220 Validation Accuracy: 0.551000\n",
      "Epoch 23, CIFAR-10 Batch 1:  Loss:     0.7644 Validation Accuracy: 0.555000\n",
      "Epoch 24, CIFAR-10 Batch 1:  Loss:     0.7615 Validation Accuracy: 0.538600\n",
      "Epoch 25, CIFAR-10 Batch 1:  Loss:     0.7197 Validation Accuracy: 0.559200\n",
      "Epoch 26, CIFAR-10 Batch 1:  Loss:     0.7055 Validation Accuracy: 0.545000\n",
      "Epoch 27, CIFAR-10 Batch 1:  Loss:     0.6576 Validation Accuracy: 0.542200\n",
      "Epoch 28, CIFAR-10 Batch 1:  Loss:     0.5979 Validation Accuracy: 0.561400\n",
      "Epoch 29, CIFAR-10 Batch 1:  Loss:     0.5689 Validation Accuracy: 0.566800\n",
      "Epoch 30, CIFAR-10 Batch 1:  Loss:     0.5029 Validation Accuracy: 0.570200\n",
      "Epoch 31, CIFAR-10 Batch 1:  Loss:     0.4909 Validation Accuracy: 0.574200\n",
      "Epoch 32, CIFAR-10 Batch 1:  Loss:     0.4849 Validation Accuracy: 0.581600\n",
      "Epoch 33, CIFAR-10 Batch 1:  Loss:     0.4444 Validation Accuracy: 0.574400\n",
      "Epoch 34, CIFAR-10 Batch 1:  Loss:     0.4673 Validation Accuracy: 0.572600\n",
      "Epoch 35, CIFAR-10 Batch 1:  Loss:     0.3990 Validation Accuracy: 0.585600\n",
      "Epoch 36, CIFAR-10 Batch 1:  Loss:     0.3786 Validation Accuracy: 0.578400\n",
      "Epoch 37, CIFAR-10 Batch 1:  Loss:     0.3717 Validation Accuracy: 0.581400\n",
      "Epoch 38, CIFAR-10 Batch 1:  Loss:     0.3372 Validation Accuracy: 0.579200\n",
      "Epoch 39, CIFAR-10 Batch 1:  Loss:     0.3393 Validation Accuracy: 0.582600\n",
      "Epoch 40, CIFAR-10 Batch 1:  Loss:     0.3253 Validation Accuracy: 0.576200\n",
      "Epoch 41, CIFAR-10 Batch 1:  Loss:     0.2514 Validation Accuracy: 0.580000\n",
      "Epoch 42, CIFAR-10 Batch 1:  Loss:     0.2244 Validation Accuracy: 0.570800\n",
      "Epoch 43, CIFAR-10 Batch 1:  Loss:     0.2354 Validation Accuracy: 0.572000\n",
      "Epoch 44, CIFAR-10 Batch 1:  Loss:     0.2155 Validation Accuracy: 0.576400\n",
      "Epoch 45, CIFAR-10 Batch 1:  Loss:     0.1913 Validation Accuracy: 0.582600\n",
      "Epoch 46, CIFAR-10 Batch 1:  Loss:     0.1730 Validation Accuracy: 0.582200\n",
      "Epoch 47, CIFAR-10 Batch 1:  Loss:     0.1417 Validation Accuracy: 0.580400\n",
      "Epoch 48, CIFAR-10 Batch 1:  Loss:     0.1550 Validation Accuracy: 0.581000\n",
      "Epoch 49, CIFAR-10 Batch 1:  Loss:     0.1298 Validation Accuracy: 0.573600\n",
      "Epoch 50, CIFAR-10 Batch 1:  Loss:     0.1195 Validation Accuracy: 0.570600\n"
     ]
    }
   ],
   "source": [
    "\"\"\"\n",
    "DON'T MODIFY ANYTHING IN THIS CELL\n",
    "\"\"\"\n",
    "print('Checking the Training on a Single Batch...')\n",
    "with tf.Session() as sess:\n",
    "    # Initializing the variables\n",
    "    sess.run(tf.global_variables_initializer())\n",
    "    \n",
    "    # Training cycle\n",
    "    for epoch in range(epochs):\n",
    "        batch_i = 1\n",
    "        for batch_features, batch_labels in helper.load_preprocess_training_batch(batch_i, batch_size):\n",
    "            train_neural_network(sess, optimizer, keep_probability, batch_features, batch_labels)\n",
    "        print('Epoch {:>2}, CIFAR-10 Batch {}:  '.format(epoch + 1, batch_i), end='')\n",
    "        print_stats(sess, batch_features, batch_labels, cost, accuracy)"
   ]
  },
  {
   "cell_type": "markdown",
   "metadata": {},
   "source": [
    "### Fully Train the Model\n",
    "Now that you got a good accuracy with a single CIFAR-10 batch, try it with all five batches."
   ]
  },
  {
   "cell_type": "code",
   "execution_count": 20,
   "metadata": {
    "collapsed": false
   },
   "outputs": [
    {
     "name": "stdout",
     "output_type": "stream",
     "text": [
      "Training...\n",
      "Epoch  1, CIFAR-10 Batch 1:  Loss:     2.1545 Validation Accuracy: 0.246400\n",
      "Epoch  1, CIFAR-10 Batch 2:  Loss:     2.0510 Validation Accuracy: 0.287400\n",
      "Epoch  1, CIFAR-10 Batch 3:  Loss:     1.7161 Validation Accuracy: 0.310200\n",
      "Epoch  1, CIFAR-10 Batch 4:  Loss:     1.7682 Validation Accuracy: 0.356600\n",
      "Epoch  1, CIFAR-10 Batch 5:  Loss:     1.8985 Validation Accuracy: 0.370800\n",
      "Epoch  2, CIFAR-10 Batch 1:  Loss:     1.7009 Validation Accuracy: 0.416600\n",
      "Epoch  2, CIFAR-10 Batch 2:  Loss:     1.6745 Validation Accuracy: 0.435000\n",
      "Epoch  2, CIFAR-10 Batch 3:  Loss:     1.2418 Validation Accuracy: 0.430200\n",
      "Epoch  2, CIFAR-10 Batch 4:  Loss:     1.4634 Validation Accuracy: 0.448800\n",
      "Epoch  2, CIFAR-10 Batch 5:  Loss:     1.6195 Validation Accuracy: 0.464800\n",
      "Epoch  3, CIFAR-10 Batch 1:  Loss:     1.5381 Validation Accuracy: 0.490200\n",
      "Epoch  3, CIFAR-10 Batch 2:  Loss:     1.4397 Validation Accuracy: 0.501400\n",
      "Epoch  3, CIFAR-10 Batch 3:  Loss:     1.1401 Validation Accuracy: 0.499200\n",
      "Epoch  3, CIFAR-10 Batch 4:  Loss:     1.2888 Validation Accuracy: 0.489000\n",
      "Epoch  3, CIFAR-10 Batch 5:  Loss:     1.4405 Validation Accuracy: 0.523200\n",
      "Epoch  4, CIFAR-10 Batch 1:  Loss:     1.3998 Validation Accuracy: 0.510200\n",
      "Epoch  4, CIFAR-10 Batch 2:  Loss:     1.2735 Validation Accuracy: 0.541800\n",
      "Epoch  4, CIFAR-10 Batch 3:  Loss:     0.9971 Validation Accuracy: 0.534800\n",
      "Epoch  4, CIFAR-10 Batch 4:  Loss:     1.1482 Validation Accuracy: 0.550000\n",
      "Epoch  4, CIFAR-10 Batch 5:  Loss:     1.2437 Validation Accuracy: 0.547400\n",
      "Epoch  5, CIFAR-10 Batch 1:  Loss:     1.1936 Validation Accuracy: 0.552800\n",
      "Epoch  5, CIFAR-10 Batch 2:  Loss:     1.0700 Validation Accuracy: 0.571600\n",
      "Epoch  5, CIFAR-10 Batch 3:  Loss:     0.8419 Validation Accuracy: 0.581600\n",
      "Epoch  5, CIFAR-10 Batch 4:  Loss:     1.0901 Validation Accuracy: 0.561400\n",
      "Epoch  5, CIFAR-10 Batch 5:  Loss:     1.1129 Validation Accuracy: 0.590800\n",
      "Epoch  6, CIFAR-10 Batch 1:  Loss:     1.1074 Validation Accuracy: 0.583000\n",
      "Epoch  6, CIFAR-10 Batch 2:  Loss:     0.9974 Validation Accuracy: 0.601800\n",
      "Epoch  6, CIFAR-10 Batch 3:  Loss:     0.8121 Validation Accuracy: 0.589800\n",
      "Epoch  6, CIFAR-10 Batch 4:  Loss:     0.9704 Validation Accuracy: 0.611800\n",
      "Epoch  6, CIFAR-10 Batch 5:  Loss:     1.0244 Validation Accuracy: 0.603000\n",
      "Epoch  7, CIFAR-10 Batch 1:  Loss:     0.9734 Validation Accuracy: 0.618600\n",
      "Epoch  7, CIFAR-10 Batch 2:  Loss:     0.9161 Validation Accuracy: 0.609200\n",
      "Epoch  7, CIFAR-10 Batch 3:  Loss:     0.7045 Validation Accuracy: 0.609000\n",
      "Epoch  7, CIFAR-10 Batch 4:  Loss:     0.9831 Validation Accuracy: 0.607800\n",
      "Epoch  7, CIFAR-10 Batch 5:  Loss:     0.9316 Validation Accuracy: 0.611000\n",
      "Epoch  8, CIFAR-10 Batch 1:  Loss:     0.9052 Validation Accuracy: 0.635200\n",
      "Epoch  8, CIFAR-10 Batch 2:  Loss:     0.7947 Validation Accuracy: 0.627200\n",
      "Epoch  8, CIFAR-10 Batch 3:  Loss:     0.6502 Validation Accuracy: 0.631200\n",
      "Epoch  8, CIFAR-10 Batch 4:  Loss:     0.8777 Validation Accuracy: 0.630800\n",
      "Epoch  8, CIFAR-10 Batch 5:  Loss:     0.8561 Validation Accuracy: 0.628000\n",
      "Epoch  9, CIFAR-10 Batch 1:  Loss:     0.8491 Validation Accuracy: 0.632600\n",
      "Epoch  9, CIFAR-10 Batch 2:  Loss:     0.7574 Validation Accuracy: 0.644600\n",
      "Epoch  9, CIFAR-10 Batch 3:  Loss:     0.6104 Validation Accuracy: 0.643000\n",
      "Epoch  9, CIFAR-10 Batch 4:  Loss:     0.8136 Validation Accuracy: 0.633000\n",
      "Epoch  9, CIFAR-10 Batch 5:  Loss:     0.6903 Validation Accuracy: 0.646400\n",
      "Epoch 10, CIFAR-10 Batch 1:  Loss:     0.7278 Validation Accuracy: 0.645200\n",
      "Epoch 10, CIFAR-10 Batch 2:  Loss:     0.7320 Validation Accuracy: 0.659400\n",
      "Epoch 10, CIFAR-10 Batch 3:  Loss:     0.5334 Validation Accuracy: 0.662200\n",
      "Epoch 10, CIFAR-10 Batch 4:  Loss:     0.7758 Validation Accuracy: 0.651600\n",
      "Epoch 10, CIFAR-10 Batch 5:  Loss:     0.5993 Validation Accuracy: 0.667200\n",
      "Epoch 11, CIFAR-10 Batch 1:  Loss:     0.7104 Validation Accuracy: 0.650000\n",
      "Epoch 11, CIFAR-10 Batch 2:  Loss:     0.7240 Validation Accuracy: 0.646800\n",
      "Epoch 11, CIFAR-10 Batch 3:  Loss:     0.5550 Validation Accuracy: 0.652200\n",
      "Epoch 11, CIFAR-10 Batch 4:  Loss:     0.7173 Validation Accuracy: 0.652800\n",
      "Epoch 11, CIFAR-10 Batch 5:  Loss:     0.5939 Validation Accuracy: 0.673000\n",
      "Epoch 12, CIFAR-10 Batch 1:  Loss:     0.6583 Validation Accuracy: 0.663600\n",
      "Epoch 12, CIFAR-10 Batch 2:  Loss:     0.6361 Validation Accuracy: 0.667800\n",
      "Epoch 12, CIFAR-10 Batch 3:  Loss:     0.4531 Validation Accuracy: 0.672600\n",
      "Epoch 12, CIFAR-10 Batch 4:  Loss:     0.6846 Validation Accuracy: 0.672000\n",
      "Epoch 12, CIFAR-10 Batch 5:  Loss:     0.5191 Validation Accuracy: 0.674000\n",
      "Epoch 13, CIFAR-10 Batch 1:  Loss:     0.6142 Validation Accuracy: 0.672400\n",
      "Epoch 13, CIFAR-10 Batch 2:  Loss:     0.5725 Validation Accuracy: 0.671000\n",
      "Epoch 13, CIFAR-10 Batch 3:  Loss:     0.4578 Validation Accuracy: 0.683200\n",
      "Epoch 13, CIFAR-10 Batch 4:  Loss:     0.5791 Validation Accuracy: 0.679800\n",
      "Epoch 13, CIFAR-10 Batch 5:  Loss:     0.4774 Validation Accuracy: 0.684400\n",
      "Epoch 14, CIFAR-10 Batch 1:  Loss:     0.5884 Validation Accuracy: 0.679200\n",
      "Epoch 14, CIFAR-10 Batch 2:  Loss:     0.5543 Validation Accuracy: 0.676800\n",
      "Epoch 14, CIFAR-10 Batch 3:  Loss:     0.4737 Validation Accuracy: 0.680400\n",
      "Epoch 14, CIFAR-10 Batch 4:  Loss:     0.5997 Validation Accuracy: 0.687000\n",
      "Epoch 14, CIFAR-10 Batch 5:  Loss:     0.4375 Validation Accuracy: 0.692000\n",
      "Epoch 15, CIFAR-10 Batch 1:  Loss:     0.5486 Validation Accuracy: 0.688800\n",
      "Epoch 15, CIFAR-10 Batch 2:  Loss:     0.4888 Validation Accuracy: 0.689400\n",
      "Epoch 15, CIFAR-10 Batch 3:  Loss:     0.4054 Validation Accuracy: 0.675600\n",
      "Epoch 15, CIFAR-10 Batch 4:  Loss:     0.5667 Validation Accuracy: 0.697000\n",
      "Epoch 15, CIFAR-10 Batch 5:  Loss:     0.3915 Validation Accuracy: 0.699600\n",
      "Epoch 16, CIFAR-10 Batch 1:  Loss:     0.4840 Validation Accuracy: 0.693800\n",
      "Epoch 16, CIFAR-10 Batch 2:  Loss:     0.4144 Validation Accuracy: 0.696800\n",
      "Epoch 16, CIFAR-10 Batch 3:  Loss:     0.3517 Validation Accuracy: 0.696000\n",
      "Epoch 16, CIFAR-10 Batch 4:  Loss:     0.5081 Validation Accuracy: 0.700400\n",
      "Epoch 16, CIFAR-10 Batch 5:  Loss:     0.3595 Validation Accuracy: 0.696600\n",
      "Epoch 17, CIFAR-10 Batch 1:  Loss:     0.4546 Validation Accuracy: 0.696600\n",
      "Epoch 17, CIFAR-10 Batch 2:  Loss:     0.4424 Validation Accuracy: 0.699800\n",
      "Epoch 17, CIFAR-10 Batch 3:  Loss:     0.3376 Validation Accuracy: 0.700800\n",
      "Epoch 17, CIFAR-10 Batch 4:  Loss:     0.4926 Validation Accuracy: 0.709600\n",
      "Epoch 17, CIFAR-10 Batch 5:  Loss:     0.3560 Validation Accuracy: 0.701600\n",
      "Epoch 18, CIFAR-10 Batch 1:  Loss:     0.4310 Validation Accuracy: 0.704000\n",
      "Epoch 18, CIFAR-10 Batch 2:  Loss:     0.4001 Validation Accuracy: 0.711600\n",
      "Epoch 18, CIFAR-10 Batch 3:  Loss:     0.3161 Validation Accuracy: 0.685400\n",
      "Epoch 18, CIFAR-10 Batch 4:  Loss:     0.4937 Validation Accuracy: 0.702400\n",
      "Epoch 18, CIFAR-10 Batch 5:  Loss:     0.3003 Validation Accuracy: 0.696000\n",
      "Epoch 19, CIFAR-10 Batch 1:  Loss:     0.4129 Validation Accuracy: 0.707200\n",
      "Epoch 19, CIFAR-10 Batch 2:  Loss:     0.3778 Validation Accuracy: 0.706800\n",
      "Epoch 19, CIFAR-10 Batch 3:  Loss:     0.3013 Validation Accuracy: 0.702000\n",
      "Epoch 19, CIFAR-10 Batch 4:  Loss:     0.4326 Validation Accuracy: 0.714400\n",
      "Epoch 19, CIFAR-10 Batch 5:  Loss:     0.3019 Validation Accuracy: 0.700400\n",
      "Epoch 20, CIFAR-10 Batch 1:  Loss:     0.4240 Validation Accuracy: 0.696600\n",
      "Epoch 20, CIFAR-10 Batch 2:  Loss:     0.3287 Validation Accuracy: 0.709400\n",
      "Epoch 20, CIFAR-10 Batch 3:  Loss:     0.2916 Validation Accuracy: 0.688400\n",
      "Epoch 20, CIFAR-10 Batch 4:  Loss:     0.4334 Validation Accuracy: 0.713000\n",
      "Epoch 20, CIFAR-10 Batch 5:  Loss:     0.2660 Validation Accuracy: 0.702600\n",
      "Epoch 21, CIFAR-10 Batch 1:  Loss:     0.4031 Validation Accuracy: 0.703600\n",
      "Epoch 21, CIFAR-10 Batch 2:  Loss:     0.3520 Validation Accuracy: 0.716800\n",
      "Epoch 21, CIFAR-10 Batch 3:  Loss:     0.3045 Validation Accuracy: 0.709400\n",
      "Epoch 21, CIFAR-10 Batch 4:  Loss:     0.4491 Validation Accuracy: 0.710600\n",
      "Epoch 21, CIFAR-10 Batch 5:  Loss:     0.2657 Validation Accuracy: 0.704800\n",
      "Epoch 22, CIFAR-10 Batch 1:  Loss:     0.3578 Validation Accuracy: 0.718800\n",
      "Epoch 22, CIFAR-10 Batch 2:  Loss:     0.3725 Validation Accuracy: 0.708400\n",
      "Epoch 22, CIFAR-10 Batch 3:  Loss:     0.2576 Validation Accuracy: 0.711600\n",
      "Epoch 22, CIFAR-10 Batch 4:  Loss:     0.4046 Validation Accuracy: 0.712200\n",
      "Epoch 22, CIFAR-10 Batch 5:  Loss:     0.2796 Validation Accuracy: 0.703400\n",
      "Epoch 23, CIFAR-10 Batch 1:  Loss:     0.3291 Validation Accuracy: 0.715200\n",
      "Epoch 23, CIFAR-10 Batch 2:  Loss:     0.3521 Validation Accuracy: 0.713600\n",
      "Epoch 23, CIFAR-10 Batch 3:  Loss:     0.2633 Validation Accuracy: 0.700800\n",
      "Epoch 23, CIFAR-10 Batch 4:  Loss:     0.3862 Validation Accuracy: 0.721200\n",
      "Epoch 23, CIFAR-10 Batch 5:  Loss:     0.2213 Validation Accuracy: 0.706400\n",
      "Epoch 24, CIFAR-10 Batch 1:  Loss:     0.2832 Validation Accuracy: 0.721600\n",
      "Epoch 24, CIFAR-10 Batch 2:  Loss:     0.3059 Validation Accuracy: 0.717200\n",
      "Epoch 24, CIFAR-10 Batch 3:  Loss:     0.2474 Validation Accuracy: 0.702200\n",
      "Epoch 24, CIFAR-10 Batch 4:  Loss:     0.3903 Validation Accuracy: 0.706400\n",
      "Epoch 24, CIFAR-10 Batch 5:  Loss:     0.2026 Validation Accuracy: 0.709800\n",
      "Epoch 25, CIFAR-10 Batch 1:  Loss:     0.2818 Validation Accuracy: 0.728200\n",
      "Epoch 25, CIFAR-10 Batch 2:  Loss:     0.3352 Validation Accuracy: 0.715200\n",
      "Epoch 25, CIFAR-10 Batch 3:  Loss:     0.2428 Validation Accuracy: 0.705000\n",
      "Epoch 25, CIFAR-10 Batch 4:  Loss:     0.3070 Validation Accuracy: 0.721000\n",
      "Epoch 25, CIFAR-10 Batch 5:  Loss:     0.1843 Validation Accuracy: 0.708200\n",
      "Epoch 26, CIFAR-10 Batch 1:  Loss:     0.2841 Validation Accuracy: 0.718800\n",
      "Epoch 26, CIFAR-10 Batch 2:  Loss:     0.2836 Validation Accuracy: 0.710200\n",
      "Epoch 26, CIFAR-10 Batch 3:  Loss:     0.2731 Validation Accuracy: 0.694000\n",
      "Epoch 26, CIFAR-10 Batch 4:  Loss:     0.2973 Validation Accuracy: 0.718200\n",
      "Epoch 26, CIFAR-10 Batch 5:  Loss:     0.1608 Validation Accuracy: 0.706400\n",
      "Epoch 27, CIFAR-10 Batch 1:  Loss:     0.2651 Validation Accuracy: 0.711000\n",
      "Epoch 27, CIFAR-10 Batch 2:  Loss:     0.2373 Validation Accuracy: 0.717800\n",
      "Epoch 27, CIFAR-10 Batch 3:  Loss:     0.2400 Validation Accuracy: 0.708800\n",
      "Epoch 27, CIFAR-10 Batch 4:  Loss:     0.2463 Validation Accuracy: 0.719400\n",
      "Epoch 27, CIFAR-10 Batch 5:  Loss:     0.1315 Validation Accuracy: 0.713000\n",
      "Epoch 28, CIFAR-10 Batch 1:  Loss:     0.2947 Validation Accuracy: 0.714400\n",
      "Epoch 28, CIFAR-10 Batch 2:  Loss:     0.2653 Validation Accuracy: 0.712000\n",
      "Epoch 28, CIFAR-10 Batch 3:  Loss:     0.2017 Validation Accuracy: 0.712800\n",
      "Epoch 28, CIFAR-10 Batch 4:  Loss:     0.2637 Validation Accuracy: 0.722600\n",
      "Epoch 28, CIFAR-10 Batch 5:  Loss:     0.1332 Validation Accuracy: 0.720800\n",
      "Epoch 29, CIFAR-10 Batch 1:  Loss:     0.2578 Validation Accuracy: 0.719400\n",
      "Epoch 29, CIFAR-10 Batch 2:  Loss:     0.2312 Validation Accuracy: 0.722800\n",
      "Epoch 29, CIFAR-10 Batch 3:  Loss:     0.1748 Validation Accuracy: 0.699400\n",
      "Epoch 29, CIFAR-10 Batch 4:  Loss:     0.2303 Validation Accuracy: 0.715400\n",
      "Epoch 29, CIFAR-10 Batch 5:  Loss:     0.1332 Validation Accuracy: 0.719600\n",
      "Epoch 30, CIFAR-10 Batch 1:  Loss:     0.2279 Validation Accuracy: 0.716600\n",
      "Epoch 30, CIFAR-10 Batch 2:  Loss:     0.2351 Validation Accuracy: 0.717400\n",
      "Epoch 30, CIFAR-10 Batch 3:  Loss:     0.2121 Validation Accuracy: 0.711800\n",
      "Epoch 30, CIFAR-10 Batch 4:  Loss:     0.2252 Validation Accuracy: 0.722400\n",
      "Epoch 30, CIFAR-10 Batch 5:  Loss:     0.1142 Validation Accuracy: 0.717800\n",
      "Epoch 31, CIFAR-10 Batch 1:  Loss:     0.2539 Validation Accuracy: 0.707200\n",
      "Epoch 31, CIFAR-10 Batch 2:  Loss:     0.2477 Validation Accuracy: 0.714600\n",
      "Epoch 31, CIFAR-10 Batch 3:  Loss:     0.2222 Validation Accuracy: 0.707200\n",
      "Epoch 31, CIFAR-10 Batch 4:  Loss:     0.2029 Validation Accuracy: 0.728800\n",
      "Epoch 31, CIFAR-10 Batch 5:  Loss:     0.1363 Validation Accuracy: 0.699200\n",
      "Epoch 32, CIFAR-10 Batch 1:  Loss:     0.2243 Validation Accuracy: 0.718200\n",
      "Epoch 32, CIFAR-10 Batch 2:  Loss:     0.2500 Validation Accuracy: 0.711800\n",
      "Epoch 32, CIFAR-10 Batch 3:  Loss:     0.2131 Validation Accuracy: 0.718600\n",
      "Epoch 32, CIFAR-10 Batch 4:  Loss:     0.1902 Validation Accuracy: 0.731400\n",
      "Epoch 32, CIFAR-10 Batch 5:  Loss:     0.1365 Validation Accuracy: 0.719800\n",
      "Epoch 33, CIFAR-10 Batch 1:  Loss:     0.2052 Validation Accuracy: 0.720000\n",
      "Epoch 33, CIFAR-10 Batch 2:  Loss:     0.1873 Validation Accuracy: 0.720000\n",
      "Epoch 33, CIFAR-10 Batch 3:  Loss:     0.2359 Validation Accuracy: 0.710200\n",
      "Epoch 33, CIFAR-10 Batch 4:  Loss:     0.2072 Validation Accuracy: 0.726400\n",
      "Epoch 33, CIFAR-10 Batch 5:  Loss:     0.1096 Validation Accuracy: 0.717400\n",
      "Epoch 34, CIFAR-10 Batch 1:  Loss:     0.1753 Validation Accuracy: 0.724400\n",
      "Epoch 34, CIFAR-10 Batch 2:  Loss:     0.1860 Validation Accuracy: 0.725600\n",
      "Epoch 34, CIFAR-10 Batch 3:  Loss:     0.1754 Validation Accuracy: 0.713400\n",
      "Epoch 34, CIFAR-10 Batch 4:  Loss:     0.1917 Validation Accuracy: 0.722200\n",
      "Epoch 34, CIFAR-10 Batch 5:  Loss:     0.1078 Validation Accuracy: 0.724600\n",
      "Epoch 35, CIFAR-10 Batch 1:  Loss:     0.2228 Validation Accuracy: 0.711200\n",
      "Epoch 35, CIFAR-10 Batch 2:  Loss:     0.1638 Validation Accuracy: 0.725200\n",
      "Epoch 35, CIFAR-10 Batch 3:  Loss:     0.2429 Validation Accuracy: 0.701400\n",
      "Epoch 35, CIFAR-10 Batch 4:  Loss:     0.2150 Validation Accuracy: 0.712800\n",
      "Epoch 35, CIFAR-10 Batch 5:  Loss:     0.1304 Validation Accuracy: 0.729200\n",
      "Epoch 36, CIFAR-10 Batch 1:  Loss:     0.1757 Validation Accuracy: 0.719400\n",
      "Epoch 36, CIFAR-10 Batch 2:  Loss:     0.2260 Validation Accuracy: 0.717600\n",
      "Epoch 36, CIFAR-10 Batch 3:  Loss:     0.1730 Validation Accuracy: 0.719000\n",
      "Epoch 36, CIFAR-10 Batch 4:  Loss:     0.1633 Validation Accuracy: 0.721400\n",
      "Epoch 36, CIFAR-10 Batch 5:  Loss:     0.1184 Validation Accuracy: 0.720600\n",
      "Epoch 37, CIFAR-10 Batch 1:  Loss:     0.1851 Validation Accuracy: 0.724600\n",
      "Epoch 37, CIFAR-10 Batch 2:  Loss:     0.1883 Validation Accuracy: 0.714600\n",
      "Epoch 37, CIFAR-10 Batch 3:  Loss:     0.1621 Validation Accuracy: 0.725600\n",
      "Epoch 37, CIFAR-10 Batch 4:  Loss:     0.1733 Validation Accuracy: 0.726200\n",
      "Epoch 37, CIFAR-10 Batch 5:  Loss:     0.0909 Validation Accuracy: 0.721600\n",
      "Epoch 38, CIFAR-10 Batch 1:  Loss:     0.1645 Validation Accuracy: 0.723000\n",
      "Epoch 38, CIFAR-10 Batch 2:  Loss:     0.1788 Validation Accuracy: 0.726800\n",
      "Epoch 38, CIFAR-10 Batch 3:  Loss:     0.1530 Validation Accuracy: 0.711000\n",
      "Epoch 38, CIFAR-10 Batch 4:  Loss:     0.1409 Validation Accuracy: 0.726600\n",
      "Epoch 38, CIFAR-10 Batch 5:  Loss:     0.0969 Validation Accuracy: 0.722400\n",
      "Epoch 39, CIFAR-10 Batch 1:  Loss:     0.1649 Validation Accuracy: 0.724200\n",
      "Epoch 39, CIFAR-10 Batch 2:  Loss:     0.1650 Validation Accuracy: 0.724800\n",
      "Epoch 39, CIFAR-10 Batch 3:  Loss:     0.1721 Validation Accuracy: 0.715600\n",
      "Epoch 39, CIFAR-10 Batch 4:  Loss:     0.1358 Validation Accuracy: 0.729400\n",
      "Epoch 39, CIFAR-10 Batch 5:  Loss:     0.0719 Validation Accuracy: 0.726400\n",
      "Epoch 40, CIFAR-10 Batch 1:  Loss:     0.1584 Validation Accuracy: 0.726600\n",
      "Epoch 40, CIFAR-10 Batch 2:  Loss:     0.1693 Validation Accuracy: 0.710800\n",
      "Epoch 40, CIFAR-10 Batch 3:  Loss:     0.1559 Validation Accuracy: 0.727000\n",
      "Epoch 40, CIFAR-10 Batch 4:  Loss:     0.1406 Validation Accuracy: 0.729400\n",
      "Epoch 40, CIFAR-10 Batch 5:  Loss:     0.0919 Validation Accuracy: 0.724000\n",
      "Epoch 41, CIFAR-10 Batch 1:  Loss:     0.1469 Validation Accuracy: 0.726600\n",
      "Epoch 41, CIFAR-10 Batch 2:  Loss:     0.1444 Validation Accuracy: 0.715200\n",
      "Epoch 41, CIFAR-10 Batch 3:  Loss:     0.1363 Validation Accuracy: 0.715200\n",
      "Epoch 41, CIFAR-10 Batch 4:  Loss:     0.1491 Validation Accuracy: 0.728200\n",
      "Epoch 41, CIFAR-10 Batch 5:  Loss:     0.1072 Validation Accuracy: 0.723600\n",
      "Epoch 42, CIFAR-10 Batch 1:  Loss:     0.1577 Validation Accuracy: 0.724400\n",
      "Epoch 42, CIFAR-10 Batch 2:  Loss:     0.1700 Validation Accuracy: 0.721800\n",
      "Epoch 42, CIFAR-10 Batch 3:  Loss:     0.1455 Validation Accuracy: 0.726400\n",
      "Epoch 42, CIFAR-10 Batch 4:  Loss:     0.1495 Validation Accuracy: 0.725000\n",
      "Epoch 42, CIFAR-10 Batch 5:  Loss:     0.0836 Validation Accuracy: 0.727400\n",
      "Epoch 43, CIFAR-10 Batch 1:  Loss:     0.1408 Validation Accuracy: 0.718200\n",
      "Epoch 43, CIFAR-10 Batch 2:  Loss:     0.1399 Validation Accuracy: 0.716800\n",
      "Epoch 43, CIFAR-10 Batch 3:  Loss:     0.1393 Validation Accuracy: 0.723000\n",
      "Epoch 43, CIFAR-10 Batch 4:  Loss:     0.1353 Validation Accuracy: 0.721600\n",
      "Epoch 43, CIFAR-10 Batch 5:  Loss:     0.0871 Validation Accuracy: 0.724600\n",
      "Epoch 44, CIFAR-10 Batch 1:  Loss:     0.1231 Validation Accuracy: 0.721000\n",
      "Epoch 44, CIFAR-10 Batch 2:  Loss:     0.1532 Validation Accuracy: 0.708800\n",
      "Epoch 44, CIFAR-10 Batch 3:  Loss:     0.1126 Validation Accuracy: 0.727400\n",
      "Epoch 44, CIFAR-10 Batch 4:  Loss:     0.1183 Validation Accuracy: 0.731600\n",
      "Epoch 44, CIFAR-10 Batch 5:  Loss:     0.1043 Validation Accuracy: 0.726000\n",
      "Epoch 45, CIFAR-10 Batch 1:  Loss:     0.1127 Validation Accuracy: 0.730000\n",
      "Epoch 45, CIFAR-10 Batch 2:  Loss:     0.1376 Validation Accuracy: 0.717400\n",
      "Epoch 45, CIFAR-10 Batch 3:  Loss:     0.1216 Validation Accuracy: 0.718800\n",
      "Epoch 45, CIFAR-10 Batch 4:  Loss:     0.1161 Validation Accuracy: 0.724600\n",
      "Epoch 45, CIFAR-10 Batch 5:  Loss:     0.0893 Validation Accuracy: 0.727600\n",
      "Epoch 46, CIFAR-10 Batch 1:  Loss:     0.1403 Validation Accuracy: 0.721200\n",
      "Epoch 46, CIFAR-10 Batch 2:  Loss:     0.1245 Validation Accuracy: 0.712400\n",
      "Epoch 46, CIFAR-10 Batch 3:  Loss:     0.1086 Validation Accuracy: 0.732400\n",
      "Epoch 46, CIFAR-10 Batch 4:  Loss:     0.1249 Validation Accuracy: 0.727000\n",
      "Epoch 46, CIFAR-10 Batch 5:  Loss:     0.1214 Validation Accuracy: 0.717800\n",
      "Epoch 47, CIFAR-10 Batch 1:  Loss:     0.1505 Validation Accuracy: 0.715400\n",
      "Epoch 47, CIFAR-10 Batch 2:  Loss:     0.1295 Validation Accuracy: 0.708800\n",
      "Epoch 47, CIFAR-10 Batch 3:  Loss:     0.1164 Validation Accuracy: 0.726000\n",
      "Epoch 47, CIFAR-10 Batch 4:  Loss:     0.1440 Validation Accuracy: 0.728600\n",
      "Epoch 47, CIFAR-10 Batch 5:  Loss:     0.0792 Validation Accuracy: 0.725600\n",
      "Epoch 48, CIFAR-10 Batch 1:  Loss:     0.1462 Validation Accuracy: 0.731200\n",
      "Epoch 48, CIFAR-10 Batch 2:  Loss:     0.1076 Validation Accuracy: 0.714600\n",
      "Epoch 48, CIFAR-10 Batch 3:  Loss:     0.1102 Validation Accuracy: 0.725600\n",
      "Epoch 48, CIFAR-10 Batch 4:  Loss:     0.0910 Validation Accuracy: 0.732600\n",
      "Epoch 48, CIFAR-10 Batch 5:  Loss:     0.0765 Validation Accuracy: 0.721600\n",
      "Epoch 49, CIFAR-10 Batch 1:  Loss:     0.1528 Validation Accuracy: 0.720800\n",
      "Epoch 49, CIFAR-10 Batch 2:  Loss:     0.0966 Validation Accuracy: 0.714400\n",
      "Epoch 49, CIFAR-10 Batch 3:  Loss:     0.1209 Validation Accuracy: 0.714600\n",
      "Epoch 49, CIFAR-10 Batch 4:  Loss:     0.1209 Validation Accuracy: 0.731600\n",
      "Epoch 49, CIFAR-10 Batch 5:  Loss:     0.0672 Validation Accuracy: 0.723600\n",
      "Epoch 50, CIFAR-10 Batch 1:  Loss:     0.2094 Validation Accuracy: 0.708000\n",
      "Epoch 50, CIFAR-10 Batch 2:  Loss:     0.1157 Validation Accuracy: 0.714800\n",
      "Epoch 50, CIFAR-10 Batch 3:  Loss:     0.1212 Validation Accuracy: 0.722200\n",
      "Epoch 50, CIFAR-10 Batch 4:  Loss:     0.1078 Validation Accuracy: 0.725200\n",
      "Epoch 50, CIFAR-10 Batch 5:  Loss:     0.0664 Validation Accuracy: 0.723200\n"
     ]
    }
   ],
   "source": [
    "\"\"\"\n",
    "DON'T MODIFY ANYTHING IN THIS CELL\n",
    "\"\"\"\n",
    "save_model_path = './image_classification'\n",
    "\n",
    "print('Training...')\n",
    "with tf.Session() as sess:\n",
    "    # Initializing the variables\n",
    "    sess.run(tf.global_variables_initializer())\n",
    "    \n",
    "    # Training cycle\n",
    "    for epoch in range(epochs):\n",
    "        # Loop over all batches\n",
    "        n_batches = 5\n",
    "        for batch_i in range(1, n_batches + 1):\n",
    "            for batch_features, batch_labels in helper.load_preprocess_training_batch(batch_i, batch_size):\n",
    "                train_neural_network(sess, optimizer, keep_probability, batch_features, batch_labels)\n",
    "            print('Epoch {:>2}, CIFAR-10 Batch {}:  '.format(epoch + 1, batch_i), end='')\n",
    "            print_stats(sess, batch_features, batch_labels, cost, accuracy)\n",
    "            \n",
    "    # Save Model\n",
    "    saver = tf.train.Saver()\n",
    "    save_path = saver.save(sess, save_model_path)"
   ]
  },
  {
   "cell_type": "markdown",
   "metadata": {},
   "source": [
    "# Checkpoint\n",
    "The model has been saved to disk.\n",
    "## Test Model\n",
    "Test your model against the test dataset.  This will be your final accuracy. You should have an accuracy greater than 50%. If you don't, keep tweaking the model architecture and parameters."
   ]
  },
  {
   "cell_type": "code",
   "execution_count": 22,
   "metadata": {
    "collapsed": false
   },
   "outputs": [
    {
     "name": "stdout",
     "output_type": "stream",
     "text": [
      "INFO:tensorflow:Restoring parameters from ./image_classification\n",
      "Testing Accuracy: 0.7208267405063291\n",
      "\n"
     ]
    },
    {
     "data": {
      "image/png": "[encoded data removed]",
      "text/plain": [
       "<matplotlib.figure.Figure at 0x7fe292835278>"
      ]
     },
     "metadata": {
      "image/png": {
       "height": 445,
       "width": 493
      }
     },
     "output_type": "display_data"
    }
   ],
   "source": [
    "\"\"\"\n",
    "DON'T MODIFY ANYTHING IN THIS CELL\n",
    "\"\"\"\n",
    "%matplotlib inline\n",
    "%config InlineBackend.figure_format = 'retina'\n",
    "\n",
    "import tensorflow as tf\n",
    "import pickle\n",
    "import helper\n",
    "import random\n",
    "\n",
    "# Set batch size if not already set\n",
    "try:\n",
    "    if batch_size:\n",
    "        pass\n",
    "except NameError:\n",
    "    batch_size = 64\n",
    "\n",
    "save_model_path = './image_classification'\n",
    "n_samples = 4\n",
    "top_n_predictions = 3\n",
    "\n",
    "def test_model():\n",
    "    \"\"\"\n",
    "    Test the saved model against the test dataset\n",
    "    \"\"\"\n",
    "\n",
    "    test_features, test_labels = pickle.load(open('preprocess_test.p', mode='rb'))\n",
    "    loaded_graph = tf.Graph()\n",
    "\n",
    "    with tf.Session(graph=loaded_graph) as sess:\n",
    "        # Load model\n",
    "        loader = tf.train.import_meta_graph(save_model_path + '.meta')\n",
    "        loader.restore(sess, save_model_path)\n",
    "\n",
    "        # Get Tensors from loaded model\n",
    "        loaded_x = loaded_graph.get_tensor_by_name('x:0')\n",
    "        loaded_y = loaded_graph.get_tensor_by_name('y:0')\n",
    "        loaded_keep_prob = loaded_graph.get_tensor_by_name('keep_prob:0')\n",
    "        loaded_logits = loaded_graph.get_tensor_by_name('logits:0')\n",
    "        loaded_acc = loaded_graph.get_tensor_by_name('accuracy:0')\n",
    "        \n",
    "        # Get accuracy in batches for memory limitations\n",
    "        test_batch_acc_total = 0\n",
    "        test_batch_count = 0\n",
    "        \n",
    "        for test_feature_batch, test_label_batch in helper.batch_features_labels(test_features, test_labels, batch_size):\n",
    "            test_batch_acc_total += sess.run(\n",
    "                loaded_acc,\n",
    "                feed_dict={loaded_x: test_feature_batch, loaded_y: test_label_batch, loaded_keep_prob: 1.0})\n",
    "            test_batch_count += 1\n",
    "\n",
    "        print('Testing Accuracy: {}\\n'.format(test_batch_acc_total/test_batch_count))\n",
    "\n",
    "        # Print Random Samples\n",
    "        random_test_features, random_test_labels = tuple(zip(*random.sample(list(zip(test_features, test_labels)), n_samples)))\n",
    "        random_test_predictions = sess.run(\n",
    "            tf.nn.top_k(tf.nn.softmax(loaded_logits), top_n_predictions),\n",
    "            feed_dict={loaded_x: random_test_features, loaded_y: random_test_labels, loaded_keep_prob: 1.0})\n",
    "        helper.display_image_predictions(random_test_features, random_test_labels, random_test_predictions)\n",
    "\n",
    "\n",
    "test_model()"
   ]
  },
  {
   "cell_type": "markdown",
   "metadata": {},
   "source": [
    "## Why 50-80% Accuracy?\n",
    "You might be wondering why you can't get an accuracy any higher. First things first, 50% isn't bad for a simple CNN.  Pure guessing would get you 10% accuracy. However, you might notice people are getting scores [well above 80%](http://rodrigob.github.io/are_we_there_yet/build/classification_datasets_results.html#43494641522d3130).  That's because we haven't taught you all there is to know about neural networks. We still need to cover a few more techniques.\n",
    "## Submitting This Project\n",
    "When submitting this project, make sure to run all the cells before saving the notebook.  Save the notebook file as \"dlnd_image_classification.ipynb\" and save it as a HTML file under \"File\" -> \"Download as\".  Include the \"helper.py\" and \"problem_unittests.py\" files in your submission."
   ]
  }
 ],
 "metadata": {
  "anaconda-cloud": {},
  "kernelspec": {
   "display_name": "Python [default]",
   "language": "python",
   "name": "python3"
  },
  "language_info": {
   "codemirror_mode": {
    "name": "ipython",
    "version": 3
   },
   "file_extension": ".py",
   "mimetype": "text/x-python",
   "name": "python",
   "nbconvert_exporter": "python",
   "pygments_lexer": "ipython3",
   "version": "3.5.2"
  }
 },
 "nbformat": 4,
 "nbformat_minor": 1
}
